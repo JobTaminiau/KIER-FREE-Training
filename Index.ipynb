{
 "cells": [
  {
   "cell_type": "markdown",
   "metadata": {},
   "source": [
    "# Index: KIER - FREE Training of Solar City Analysis\n",
    "\n",
    "Monday, July 6 from 9:00 AM - 1:00 PM CDT (With tutorial setup help from 8:00 AM - 9:00 AM CDT.)\n",
    "\n",
    "This index provides an overview of the 2020 FREE-KIER Tutorial Session on 'Solar City' Analysis. \n",
    "\n",
    "The Foundation for Renewable Energy & Environment (FREE) has developed five training modules for Korea Institute of Energy Research (KIER) researchers. The training modules introduce participants to the relevant geospatial analysis steps involved in ‘solar city’ evaluations. The training, therefore, deals with munging geo-data, exploring relations over space, evaluating physical urban conditions, estimating rooftop dimensions, and considering solar insolation and shading patterns. In a general sense, the tutorials include data analysis steps such as importing data, visualization, evaluation, and reporting.\n",
    "\n",
    "The tutorials make use of a virtual workspace that is accessible to all participants. The virtual workspace can be accessed by navigating to: https://github.com/JobTaminiau/KIER-FREE-Training. The GitHub repository contains all the necessary data and training modules for all five tutorial sessions. A good place to start is to first read the README.md file in the repository. This file contains instructions on how to open the relevant files of the tutorial session. In particular, the README.md file contains a so-called “binder” link at the top of the file. When you click this link, the virtual workspace is launched so that the tutorial can begin. Launching the virtual workspace will take a few minutes, so please be patient."
   ]
  },
  {
   "cell_type": "markdown",
   "metadata": {},
   "source": [
    "The code in the tutorial has been written using Python 3; many of the dependencies may not be available for Python 2.7."
   ]
  },
  {
   "cell_type": "markdown",
   "metadata": {},
   "source": [
    "## Pre-Requisites for the Tutorials"
   ]
  },
  {
   "cell_type": "markdown",
   "metadata": {},
   "source": [
    "No previous experience with the geospatial Python libraries is needed, but basic familiarity with geospatial data and concepts (shapefiles, vector vs raster data) and the Python library Pandas will be helpful. The virtual workspace and the exercises are set up in such a way that participants without Python or geospatial analysis experience should be able to complete them using the information learned during the session."
   ]
  },
  {
   "cell_type": "markdown",
   "metadata": {},
   "source": [
    "## Instructors\n",
    "\n",
    "- Job Taminiau, Senior Research Principal - [Foundation for Renewable Energy and Environment (FREE)](https://freefutures.org/)"
   ]
  },
  {
   "cell_type": "markdown",
   "metadata": {},
   "source": [
    "## Outline of the Tutorial Sessions\n",
    "\n",
    "The tutorials are structured along five sessions:\n",
    "1.\t**Introduction, Setting Up, and the Basics:** The first tutorial session will be used to get everyone ready and familiar with the GitHub repository and the virtual workspace. This tutorial will include going over the files that are contained in the repository, launching Binder, and exploring the virtual workspace. Once everyone is familiar with the virtual workspace, the tutorial session will go over ‘the basics’ of geospatial assessment. The ‘basics’ includes providing an overview of common operations and the necessary Python libraries, instructions, and code to run these common operations.\n",
    "2.\t**Introduction to LIDAR data:** Light Detection and Ranging (LIDAR) data forms a critical component in advanced ‘solar city’ analysis. As such, it is necessary to understand what LIDAR data is, how it is structured, what common forms it comes in, and how to extract useful information from a LIDAR data file. Using the virtual workspace, the tutorial will go over these essential steps. \n",
    "3.\t**Introduction to Geographic Information System (GIS) Analysis:** the geospatial analysis steps involved in a ‘solar city’ evaluation heavily depend on tools and ideas that come from the various GIS software options that are available. This session will cover several key geospatial analysis tools involved in ‘solar city’ analyses. The participants will be shown how to perform these analysis steps in ArcGIS Pro software. In addition, the virtual workspace will show how to use the tools using Python.\n",
    "4.\t**Estimating ‘Solar City’ Potential Without LIDAR:** LIDAR data is not always available for the estimation of rooftop solar potential for an entire city. Methods have been developed by various researchers to estimate rooftop solar potential when no LIDAR data is available. This tutorial session will go over several such methods and the participants will be walked through one method in detail. For the analysis, the session will estimate the rooftop solar potential of a small portion of a city but the basic idea is applicable to entire cities.\n",
    "5.\t**Estimating ‘Solar City’ Potential using LIDAR:** Finally, the final session will illustrate the calculation of ‘solar city’ potential using LIDAR data. The tutorial session will describe the basic ideas behind this type of analysis and the participants will be walked through one method in detail. For the analysis, the session will estimate the rooftop solar potential of a small portion of a city but the basic idea is applicable to entire cities."
   ]
  },
  {
   "cell_type": "markdown",
   "metadata": {},
   "source": [
    "## Additional Details"
   ]
  },
  {
   "cell_type": "markdown",
   "metadata": {},
   "source": [
    "- All sessions will be entirely virtual. A Zoom link will be provided to the participants ahead of time. \n",
    "- Each participant will need access to their own computer with an internet connection. \n",
    "- All communication will be in English. \n",
    "- Each session will be approximately one-hour long."
   ]
  },
  {
   "cell_type": "markdown",
   "metadata": {},
   "source": [
    "## Index"
   ]
  },
  {
   "cell_type": "markdown",
   "metadata": {},
   "source": [
    "[add links to all the other notebooks]"
   ]
  },
  {
   "cell_type": "code",
   "execution_count": null,
   "metadata": {},
   "outputs": [],
   "source": []
  }
 ],
 "metadata": {
  "kernelspec": {
   "display_name": "Python 3",
   "language": "python",
   "name": "python3"
  },
  "language_info": {
   "codemirror_mode": {
    "name": "ipython",
    "version": 3
   },
   "file_extension": ".py",
   "mimetype": "text/x-python",
   "name": "python",
   "nbconvert_exporter": "python",
   "pygments_lexer": "ipython3",
   "version": "3.7.7"
  }
 },
 "nbformat": 4,
 "nbformat_minor": 4
}
